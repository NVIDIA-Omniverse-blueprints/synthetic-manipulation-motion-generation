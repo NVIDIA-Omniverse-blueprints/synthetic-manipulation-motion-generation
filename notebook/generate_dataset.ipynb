{
 "cells": [
  {
   "cell_type": "markdown",
   "id": "7e2ff454-b14a-4ef1-986c-9087c003ea53",
   "metadata": {},
   "source": [
    "# Imitation Learning Dataset Generation Notebook\n",
    "\n",
    "This notebook demonstrates how to generate additional datasets through imitation learning using Isaac Lab Mimic. The workflow consists of several key steps:\n",
    "\n",
    "1. **Configure basic parameters**:  \n",
    "   - Number of parallel environments\n",
    "   - Number of demonstrations to generate\n",
    "2. **Initialize the environment**: Instantiates the IsaacLab environment with configured parameters\n",
    "2. **Interactive Parameter Updates**: Allows customization of randomizable parameters\n",
    "3. **Data Generation**: Generates new demonstrations based on existing annotated datasets\n"
   ]
  },
  {
   "cell_type": "markdown",
   "id": "c8f4eee1",
   "metadata": {},
   "source": [
    "## Initial Configuration\n",
    "\n",
    "This cell sets up the basic configuration for data generation:\n",
    "\n",
    "1. **How to Modify**:\n",
    "   - Adjust `num_envs` to how many parallel environments you want\n",
    "   - Set `generation_num_trials` to how many demos you want\n",
    "\n",
    "2. **Tips**:\n",
    "   - Start with 10 trials for testing, increase for training"
   ]
  },
  {
   "cell_type": "code",
   "execution_count": null,
   "id": "71d91d6e",
   "metadata": {},
   "outputs": [],
   "source": [
    "from isaaclab.utils.notebook_widgets import (\n",
    "    create_num_envs_input,\n",
    "    create_num_trials_input\n",
    ")\n",
    "\n",
    "num_envs = create_num_envs_input()\n",
    "num_trials = create_num_trials_input()"
   ]
  },
  {
   "cell_type": "markdown",
   "id": "ddc54d6a",
   "metadata": {},
   "source": [
    "## Environment Setup\n",
    "\n",
    "Run this cell to initialize the simulation environment. This sets up the necessary components for data generation."
   ]
  },
  {
   "cell_type": "code",
   "execution_count": null,
   "id": "4fa2cf0f-cf3c-4383-a233-216ff1f48c5d",
   "metadata": {},
   "outputs": [],
   "source": [
    "import nest_asyncio\n",
    "nest_asyncio.apply()\n",
    "\n",
    "from argparse import ArgumentParser, Namespace\n",
    "from isaaclab.app import AppLauncher\n",
    "\n",
    "parser = ArgumentParser()\n",
    "AppLauncher.add_app_launcher_args(parser)\n",
    "args_cli = parser.parse_args([])\n",
    "\n",
    "config = {\n",
    "    \"task\": \"Isaac-Stack-Cube-Franka-IK-Rel-Mimic-v0\",\n",
    "    \"num_envs\": num_envs.value,\n",
    "    \"generation_num_trials\": num_trials.value,\n",
    "    \"input_file\": \"datasets/annotated_dataset.hdf5\",\n",
    "    \"output_file\": \"datasets/generated_dataset.hdf5\",\n",
    "    \"pause_subtask\": False\n",
    "}\n",
    "\n",
    "# Update the default configuration\n",
    "args_dict = vars(args_cli)\n",
    "args_dict.update(config)\n",
    "args_cli = Namespace(**args_dict)\n",
    "\n",
    "# Now launch the simulator with the final configuration\n",
    "app_launcher = AppLauncher(args_cli)\n",
    "simulation_app = app_launcher.app\n",
    "\n",
    "import asyncio\n",
    "import gymnasium as gym\n",
    "import numpy as np\n",
    "import random\n",
    "import torch\n",
    "\n",
    "import isaaclab_mimic.envs  # noqa: F401\n",
    "from isaaclab_mimic.datagen.generation import env_loop, setup_env_config, setup_async_generation\n",
    "from isaaclab_mimic.datagen.utils import get_env_name_from_dataset, setup_output_paths, interactive_update_randomizable_params, reset_env\n",
    "\n",
    "import isaaclab_tasks  # noqa: F401\n",
    "num_envs = args_cli.num_envs\n",
    "\n",
    "# Setup output paths and get env name\n",
    "output_dir, output_file_name = setup_output_paths(args_cli.output_file)\n",
    "env_name = args_cli.task or get_env_name_from_dataset(args_cli.input_file)\n",
    "\n",
    "# Configure environment\n",
    "env_cfg, success_term = setup_env_config(\n",
    "    env_name=env_name,\n",
    "    output_dir=output_dir,\n",
    "    output_file_name=output_file_name,\n",
    "    num_envs=num_envs,\n",
    "    device=args_cli.device,\n",
    "    generation_num_trials=args_cli.generation_num_trials,\n",
    ")\n",
    "\n",
    "\n",
    "# create environment\n",
    "env = gym.make(env_name, cfg=env_cfg)\n",
    "\n",
    "# set seed for generation\n",
    "random.seed(env.unwrapped.cfg.datagen_config.seed)\n",
    "np.random.seed(env.unwrapped.cfg.datagen_config.seed)\n",
    "torch.manual_seed(env.unwrapped.cfg.datagen_config.seed)\n",
    "\n",
    "# reset before starting\n",
    "reset_env(env, 100)"
   ]
  },
  {
   "cell_type": "markdown",
   "id": "74fd57b1",
   "metadata": {},
   "source": [
    "## Interactive Parameter Updates\n",
    "\n",
    "This section provides interactive sliders and controls to adjust various environment parameters in real-time:\n",
    "\n",
    "1. **What You'll See**:\n",
    "   - Sliders for numerical values\n",
    "   - Range inputs for min/max settings\n",
    "   - Current value displays\n",
    "   - Parameter names and allowed ranges\n",
    "\n",
    "2. **How to Use**:\n",
    "   - Move the sliders to adjust values\n",
    "   - Watch the environment update in real-time\n",
    "\n",
    "3. **Tips**:\n",
    "   - Start with small adjustments to understand their effects\n",
    "\n",
    "Note: These adjustments will affect how new demonstrations are generated, so take time to experiment with different settings to achieve desired behavior."
   ]
  },
  {
   "cell_type": "code",
   "execution_count": null,
   "id": "ec27b67f-d051-45e5-878f-2f6e1e6822f5",
   "metadata": {},
   "outputs": [],
   "source": [
    "for event_term in env.unwrapped.event_manager._mode_term_cfgs[\"reset\"]:\n",
    "    if hasattr(event_term, \"randomizable_params\") and event_term.randomizable_params is not None:\n",
    "        print(f\"Updating parameters for event: {event_term.func.__name__}\")\n",
    "        interactive_update_randomizable_params(event_term, event_term.randomizable_params, env=env)"
   ]
  },
  {
   "cell_type": "markdown",
   "id": "03d35f42",
   "metadata": {},
   "source": [
    "## Data Generation\n",
    "\n",
    "Run this cell to start generating demonstrations using the parameters you've configured. The process will:\n",
    "- Generate the specified number of demonstrations\n",
    "- Save successful demonstrations to your output file\n",
    "- Show progress as demonstrations are generated"
   ]
  },
  {
   "cell_type": "code",
   "execution_count": null,
   "id": "035cd632-b2a5-4e23-8ad4-3df7e32a2512",
   "metadata": {},
   "outputs": [],
   "source": [
    "# Setup and run async data generation\n",
    "async_components = setup_async_generation(\n",
    "    env=env,\n",
    "    num_envs=args_cli.num_envs,\n",
    "    input_file=args_cli.input_file,\n",
    "    success_term=success_term,\n",
    "    pause_subtask=args_cli.pause_subtask\n",
    ")\n",
    "\n",
    "try:\n",
    "    asyncio.ensure_future(asyncio.gather(*async_components['tasks']))\n",
    "    env_loop(env, async_components['action_queue'],\n",
    "            async_components['info_pool'], async_components['event_loop'])\n",
    "except asyncio.CancelledError:\n",
    "    print(\"Tasks were cancelled.\")\n",
    "simulation_app.close()"
   ]
  }
 ],
 "metadata": {
  "kernelspec": {
   "display_name": "Python 3 (ipykernel)",
   "language": "python",
   "name": "python3"
  },
  "language_info": {
   "codemirror_mode": {
    "name": "ipython",
    "version": 3
   },
   "file_extension": ".py",
   "mimetype": "text/x-python",
   "name": "python",
   "nbconvert_exporter": "python",
   "pygments_lexer": "ipython3",
   "version": "3.10.15"
  }
 },
 "nbformat": 4,
 "nbformat_minor": 5
}
